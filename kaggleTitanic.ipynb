{
 "cells": [
  {
   "cell_type": "markdown",
   "metadata": {},
   "source": [
    "# Data analysis libraries "
   ]
  },
  {
   "cell_type": "code",
   "execution_count": 1,
   "metadata": {
    "collapsed": false
   },
   "outputs": [],
   "source": [
    "%matplotlib inline\n",
    "\n",
    "import pandas as pd\n",
    "import numpy as np\n",
    "import matplotlib.pyplot as plt\n",
    "\n",
    "from sklearn.linear_model import LogisticRegression\n",
    "from sklearn.svm import SVC\n",
    "\n",
    "from sklearn.grid_search import GridSearchCV\n",
    "from sklearn.cross_validation import train_test_split\n",
    "\n",
    "from patsy import dmatrices"
   ]
  },
  {
   "cell_type": "markdown",
   "metadata": {},
   "source": [
    "# Data munging"
   ]
  },
  {
   "cell_type": "code",
   "execution_count": 2,
   "metadata": {
    "collapsed": false
   },
   "outputs": [],
   "source": [
    "df = pd.read_csv('train.csv')"
   ]
  },
  {
   "cell_type": "code",
   "execution_count": 3,
   "metadata": {
    "collapsed": false
   },
   "outputs": [
    {
     "name": "stdout",
     "output_type": "stream",
     "text": [
      "<class 'pandas.core.frame.DataFrame'>\n",
      "Int64Index: 891 entries, 0 to 890\n",
      "Data columns (total 12 columns):\n",
      "PassengerId    891 non-null int64\n",
      "Survived       891 non-null int64\n",
      "Pclass         891 non-null int64\n",
      "Name           891 non-null object\n",
      "Sex            891 non-null object\n",
      "Age            714 non-null float64\n",
      "SibSp          891 non-null int64\n",
      "Parch          891 non-null int64\n",
      "Ticket         891 non-null object\n",
      "Fare           891 non-null float64\n",
      "Cabin          204 non-null object\n",
      "Embarked       889 non-null object\n",
      "dtypes: float64(2), int64(5), object(5)\n",
      "memory usage: 90.5 KB\n"
     ]
    }
   ],
   "source": [
    "df.info()"
   ]
  },
  {
   "cell_type": "markdown",
   "metadata": {},
   "source": [
    "Some null values are found in \"Age\", \"Cabin\", \"Embarked\". In particular, most of the \"Cabin\" column are null. We thus drop \"Cabin\" here as well as the \"Ticket\" column that seems not helpful."
   ]
  },
  {
   "cell_type": "code",
   "execution_count": 4,
   "metadata": {
    "collapsed": false
   },
   "outputs": [],
   "source": [
    "df = df.drop(['Cabin','Ticket'],axis=1)"
   ]
  },
  {
   "cell_type": "markdown",
   "metadata": {},
   "source": [
    "As pointed out by some kagglers, the titles in the \"Name\" column can be used to imputate the missing ages. By counting words in this column, most of the passengers turned out to have the title \"Mr\", \"Mrs\", \"Miss, or \"Master\". Below we extract them and create a \"Title\" column. "
   ]
  },
  {
   "cell_type": "code",
   "execution_count": 5,
   "metadata": {
    "collapsed": false
   },
   "outputs": [],
   "source": [
    "def createTitle(df):\n",
    "    n = len(df)\n",
    "    title = []\n",
    "\n",
    "    for i in xrange(n):\n",
    "    \n",
    "        s = df.Name[i]\n",
    "        sex = df.Sex[i]\n",
    "\n",
    "        if s.find('Mrs') > 0:  # must be before Mr\n",
    "            title.append('Mrs')\n",
    "\n",
    "        elif s.find('Mr') > 0:\n",
    "            title.append('Mr')\n",
    "\n",
    "        elif s.find('Miss') > 0 or s.find('Ms') > 0 or s.find('Mlle') > 0:\n",
    "            title.append('Miss')\n",
    "        \n",
    "        elif s.find('Master') > 0:\n",
    "            title.append('Master')\n",
    "\n",
    "        elif sex=='male':\n",
    "            title.append('Mr')\n",
    "        \n",
    "        else:\n",
    "            title.append('Ms')   \n",
    "        \n",
    "        df[\"Title\"] = pd.Series(title)\n",
    "\n",
    "    return df"
   ]
  },
  {
   "cell_type": "code",
   "execution_count": 6,
   "metadata": {
    "collapsed": false
   },
   "outputs": [],
   "source": [
    "df = createTitle(df)"
   ]
  },
  {
   "cell_type": "markdown",
   "metadata": {},
   "source": [
    "Now that we have the titles which should be relevant to the passenger's age, the missing ages can be imputated based on this information. Here, we will use the average age for each title. Also, there are two missing values in the \"Embarked\" column. Here we simply use \"S\" that is the most common value. "
   ]
  },
  {
   "cell_type": "code",
   "execution_count": 7,
   "metadata": {
    "collapsed": true
   },
   "outputs": [],
   "source": [
    "# useful boolean Series\n",
    "male = df.Sex=='male'\n",
    "female = df.Sex=='female'\n",
    "\n",
    "Mr = df.Title=='Mr'\n",
    "Miss = df.Title=='Miss'\n",
    "Mrs = df.Title=='Mrs'\n",
    "Master = df.Title=='Master'"
   ]
  },
  {
   "cell_type": "code",
   "execution_count": 8,
   "metadata": {
    "collapsed": false
   },
   "outputs": [],
   "source": [
    "mean_age_miss = np.average( df[Miss]['Age'].dropna() )\n",
    "mean_age_mrs = np.average( df[Mrs]['Age'].dropna() )\n",
    "mean_age_mr = np.average( df[Mr]['Age'].dropna() )\n",
    "mean_age_master = np.average( df[Master]['Age'].dropna() )"
   ]
  },
  {
   "cell_type": "code",
   "execution_count": 9,
   "metadata": {
    "collapsed": false
   },
   "outputs": [],
   "source": [
    "mean_age = mean_age_mr, mean_age_master, mean_age_mrs, mean_age_miss"
   ]
  },
  {
   "cell_type": "code",
   "execution_count": 10,
   "metadata": {
    "collapsed": true
   },
   "outputs": [],
   "source": [
    "def impute(df, mean_age):\n",
    "    \n",
    "    Mr = df.Title=='Mr'\n",
    "    Miss = df.Title=='Miss'\n",
    "    Mrs = df.Title=='Mrs'\n",
    "    Master = df.Title=='Master'    \n",
    "\n",
    "    df['AgeFill'] = df['Age']\n",
    "\n",
    "    age_null = df.Age.isnull()\n",
    "    \n",
    "    df.loc[ age_null & Mr ,'AgeFill'] = mean_age[0]\n",
    "    df.loc[ age_null & Master ,'AgeFill'] = mean_age[1]\n",
    "    df.loc[ age_null & Mrs ,'AgeFill'] = mean_age[2]\n",
    "    df.loc[ age_null & Miss ,'AgeFill'] = mean_age[3]\n",
    "\n",
    "    df.loc[ df.Embarked.isnull(), 'Embarked'] = df.Embarked.mode()[0]  #'S'\n",
    "    df.loc[ df.Fare.isnull(), 'Fare' ] = df.Fare.mean()\n",
    "        \n",
    "    return df"
   ]
  },
  {
   "cell_type": "code",
   "execution_count": 11,
   "metadata": {
    "collapsed": false
   },
   "outputs": [],
   "source": [
    "df = impute(df, mean_age)"
   ]
  },
  {
   "cell_type": "markdown",
   "metadata": {},
   "source": [
    "# Logistic regression and SVM"
   ]
  },
  {
   "cell_type": "markdown",
   "metadata": {},
   "source": [
    "We first try L2-regularized logit and SVM by including all available information from the data. But note further feature engineering is possible and it may improve the performance."
   ]
  },
  {
   "cell_type": "code",
   "execution_count": 12,
   "metadata": {
    "collapsed": true
   },
   "outputs": [],
   "source": [
    "formula = 'Survived ~ C(Pclass) + C(Sex) + AgeFill + SibSp + Parch + Fare + C(Embarked) + C(Title)'"
   ]
  },
  {
   "cell_type": "code",
   "execution_count": 13,
   "metadata": {
    "collapsed": false
   },
   "outputs": [],
   "source": [
    "y_df, x_df = dmatrices(formula, data=df, return_type='dataframe')"
   ]
  },
  {
   "cell_type": "code",
   "execution_count": 14,
   "metadata": {
    "collapsed": false
   },
   "outputs": [],
   "source": [
    "# to numpy array\n",
    "y = y_df.values.ravel()\n",
    "x = x_df.values"
   ]
  },
  {
   "cell_type": "code",
   "execution_count": 15,
   "metadata": {
    "collapsed": false
   },
   "outputs": [],
   "source": [
    "x_train, x_val, y_train, y_val = train_test_split(x,y)"
   ]
  },
  {
   "cell_type": "code",
   "execution_count": 16,
   "metadata": {
    "collapsed": true
   },
   "outputs": [],
   "source": [
    "# hyperparameters which should be determined by cross-validation\n",
    "\n",
    "# for logit\n",
    "d1 = {'C':[0.01, 0.03, 0.1, 0.3, 1, 3, 10, 30, 100]\n",
    "     ,'penalty': ['l1','l2']}\n",
    "param_grid1 = [d1]\n",
    "\n",
    "# for SVM\n",
    "d2 = {'C': [0.01, 0.03, 0.1, 0.3, 1, 3, 10, 30, 100]\n",
    "     ,'gamma': [0, 1, 3, 10, 30]}\n",
    "param_grid2 = [d2]"
   ]
  },
  {
   "cell_type": "code",
   "execution_count": 17,
   "metadata": {
    "collapsed": false
   },
   "outputs": [],
   "source": [
    "clf_grid1 = GridSearchCV(LogisticRegression(), param_grid1, cv=10)\n",
    "clf_grid2 = GridSearchCV(SVC(), param_grid2, cv=10)"
   ]
  },
  {
   "cell_type": "code",
   "execution_count": 18,
   "metadata": {
    "collapsed": false
   },
   "outputs": [
    {
     "data": {
      "text/plain": [
       "GridSearchCV(cv=10, error_score='raise',\n",
       "       estimator=LogisticRegression(C=1.0, class_weight=None, dual=False, fit_intercept=True,\n",
       "          intercept_scaling=1, max_iter=100, multi_class='ovr', n_jobs=1,\n",
       "          penalty='l2', random_state=None, solver='liblinear', tol=0.0001,\n",
       "          verbose=0, warm_start=False),\n",
       "       fit_params={}, iid=True, n_jobs=1,\n",
       "       param_grid=[{'penalty': ['l1', 'l2'], 'C': [0.01, 0.03, 0.1, 0.3, 1, 3, 10, 30, 100]}],\n",
       "       pre_dispatch='2*n_jobs', refit=True, scoring=None, verbose=0)"
      ]
     },
     "execution_count": 18,
     "metadata": {},
     "output_type": "execute_result"
    }
   ],
   "source": [
    "clf_grid1.fit(x, y)"
   ]
  },
  {
   "cell_type": "code",
   "execution_count": 19,
   "metadata": {
    "collapsed": false
   },
   "outputs": [
    {
     "data": {
      "text/plain": [
       "GridSearchCV(cv=10, error_score='raise',\n",
       "       estimator=SVC(C=1.0, cache_size=200, class_weight=None, coef0=0.0,\n",
       "  decision_function_shape=None, degree=3, gamma='auto', kernel='rbf',\n",
       "  max_iter=-1, probability=False, random_state=None, shrinking=True,\n",
       "  tol=0.001, verbose=False),\n",
       "       fit_params={}, iid=True, n_jobs=1,\n",
       "       param_grid=[{'C': [0.01, 0.03, 0.1, 0.3, 1, 3, 10, 30, 100], 'gamma': [0, 1, 3, 10, 30]}],\n",
       "       pre_dispatch='2*n_jobs', refit=True, scoring=None, verbose=0)"
      ]
     },
     "execution_count": 19,
     "metadata": {},
     "output_type": "execute_result"
    }
   ],
   "source": [
    "clf_grid2.fit(x, y)"
   ]
  },
  {
   "cell_type": "code",
   "execution_count": 20,
   "metadata": {
    "collapsed": false
   },
   "outputs": [
    {
     "data": {
      "text/plain": [
       "({'C': 1, 'penalty': 'l1'}, {'C': 1, 'gamma': 0})"
      ]
     },
     "execution_count": 20,
     "metadata": {},
     "output_type": "execute_result"
    }
   ],
   "source": [
    "# best hyporparameters\n",
    "clf_grid1.best_params_, clf_grid2.best_params_"
   ]
  },
  {
   "cell_type": "code",
   "execution_count": 21,
   "metadata": {
    "collapsed": false
   },
   "outputs": [
    {
     "data": {
      "text/plain": [
       "(0.83277216610549942, 0.88552188552188549)"
      ]
     },
     "execution_count": 21,
     "metadata": {},
     "output_type": "execute_result"
    }
   ],
   "source": [
    "# classification accuracy\n",
    "clf_grid1.score(x,y), clf_grid2.score(x,y)"
   ]
  },
  {
   "cell_type": "markdown",
   "metadata": {},
   "source": [
    "# Cleaning the test set"
   ]
  },
  {
   "cell_type": "code",
   "execution_count": 22,
   "metadata": {
    "collapsed": false
   },
   "outputs": [],
   "source": [
    "df_test = pd.read_csv(\"test.csv\")\n",
    "df_test = df_test.drop([\"Ticket\", \"Cabin\"], axis=1)\n",
    "df_test['Survived'] = 2"
   ]
  },
  {
   "cell_type": "code",
   "execution_count": 23,
   "metadata": {
    "collapsed": false
   },
   "outputs": [
    {
     "name": "stdout",
     "output_type": "stream",
     "text": [
      "<class 'pandas.core.frame.DataFrame'>\n",
      "Int64Index: 418 entries, 0 to 417\n",
      "Data columns (total 10 columns):\n",
      "PassengerId    418 non-null int64\n",
      "Pclass         418 non-null int64\n",
      "Name           418 non-null object\n",
      "Sex            418 non-null object\n",
      "Age            332 non-null float64\n",
      "SibSp          418 non-null int64\n",
      "Parch          418 non-null int64\n",
      "Fare           417 non-null float64\n",
      "Embarked       418 non-null object\n",
      "Survived       418 non-null int64\n",
      "dtypes: float64(2), int64(5), object(3)\n",
      "memory usage: 35.9 KB\n"
     ]
    }
   ],
   "source": [
    "df_test.info()"
   ]
  },
  {
   "cell_type": "markdown",
   "metadata": {},
   "source": [
    "As for the training set, after adding a \"Title\" column, we make an imputation for \"Age\" in terms of mean_age which determined from the training set. For the missing value in the \"Fare\" column, we simply use the mean for imputation."
   ]
  },
  {
   "cell_type": "code",
   "execution_count": 24,
   "metadata": {
    "collapsed": false
   },
   "outputs": [],
   "source": [
    "df_test = createTitle(df_test)"
   ]
  },
  {
   "cell_type": "code",
   "execution_count": 25,
   "metadata": {
    "collapsed": false
   },
   "outputs": [],
   "source": [
    "df_test = impute(df_test, mean_age)"
   ]
  },
  {
   "cell_type": "code",
   "execution_count": 26,
   "metadata": {
    "collapsed": false
   },
   "outputs": [
    {
     "name": "stdout",
     "output_type": "stream",
     "text": [
      "<class 'pandas.core.frame.DataFrame'>\n",
      "Int64Index: 418 entries, 0 to 417\n",
      "Data columns (total 12 columns):\n",
      "PassengerId    418 non-null int64\n",
      "Pclass         418 non-null int64\n",
      "Name           418 non-null object\n",
      "Sex            418 non-null object\n",
      "Age            332 non-null float64\n",
      "SibSp          418 non-null int64\n",
      "Parch          418 non-null int64\n",
      "Fare           418 non-null float64\n",
      "Embarked       418 non-null object\n",
      "Survived       418 non-null int64\n",
      "Title          418 non-null object\n",
      "AgeFill        418 non-null float64\n",
      "dtypes: float64(3), int64(5), object(4)\n",
      "memory usage: 42.5 KB\n"
     ]
    }
   ],
   "source": [
    "df_test.info()"
   ]
  },
  {
   "cell_type": "markdown",
   "metadata": {},
   "source": [
    "# Make predictions on the test set"
   ]
  },
  {
   "cell_type": "code",
   "execution_count": 27,
   "metadata": {
    "collapsed": false
   },
   "outputs": [],
   "source": [
    "y_test, x_test = dmatrices(formula, data=df_test, return_type='dataframe')\n",
    "x_test = x_test.values"
   ]
  },
  {
   "cell_type": "code",
   "execution_count": 28,
   "metadata": {
    "collapsed": false
   },
   "outputs": [],
   "source": [
    "y_pred_logit = clf_grid1.predict(x_test).astype(int)\n",
    "y_pred_svm = clf_grid2.predict(x_test).astype(int)"
   ]
  },
  {
   "cell_type": "code",
   "execution_count": 29,
   "metadata": {
    "collapsed": false
   },
   "outputs": [],
   "source": [
    "# logit\n",
    "df_test.Survived = pd.Series(y_pred_logit)\n",
    "result = df_test[['PassengerId','Survived']]\n",
    "result.to_csv('logit.csv', index=False)"
   ]
  },
  {
   "cell_type": "code",
   "execution_count": 30,
   "metadata": {
    "collapsed": true
   },
   "outputs": [],
   "source": [
    "# SVM\n",
    "df_test.Survived = pd.Series(y_pred_svm)\n",
    "result = df_test[['PassengerId','Survived']]\n",
    "result.to_csv('svm.csv', index=False)"
   ]
  },
  {
   "cell_type": "code",
   "execution_count": null,
   "metadata": {
    "collapsed": true
   },
   "outputs": [],
   "source": []
  }
 ],
 "metadata": {
  "kernelspec": {
   "display_name": "Python 2",
   "language": "python",
   "name": "python2"
  },
  "language_info": {
   "codemirror_mode": {
    "name": "ipython",
    "version": 2
   },
   "file_extension": ".py",
   "mimetype": "text/x-python",
   "name": "python",
   "nbconvert_exporter": "python",
   "pygments_lexer": "ipython2",
   "version": "2.7.10"
  }
 },
 "nbformat": 4,
 "nbformat_minor": 0
}
